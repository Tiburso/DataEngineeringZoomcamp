{
 "cells": [
  {
   "cell_type": "code",
   "execution_count": 1,
   "metadata": {},
   "outputs": [],
   "source": [
    "from pyspark.sql import SparkSession\n",
    "from pyspark.conf import SparkConf\n",
    "from pyspark.context import SparkContext\n",
    "\n",
    "#   https://kashif-sohail.medium.com/read-files-from-google-cloud-storage-bucket-using-local-pyspark-and-jupyter-notebooks-f8bd43f4b42e"
   ]
  },
  {
   "cell_type": "markdown",
   "metadata": {},
   "source": [
    "## Build Master"
   ]
  },
  {
   "cell_type": "code",
   "execution_count": 2,
   "metadata": {},
   "outputs": [
    {
     "name": "stderr",
     "output_type": "stream",
     "text": [
      "24/04/12 15:22:58 WARN Utils: Your hostname, manuelpc resolves to a loopback address: 127.0.0.1; using 131.155.193.147 instead (on interface wlo1)\n",
      "24/04/12 15:22:58 WARN Utils: Set SPARK_LOCAL_IP if you need to bind to another address\n",
      "24/04/12 15:23:00 WARN NativeCodeLoader: Unable to load native-hadoop library for your platform... using builtin-java classes where applicable\n",
      "Setting default log level to \"WARN\".\n",
      "To adjust logging level use sc.setLogLevel(newLevel). For SparkR, use setLogLevel(newLevel).\n"
     ]
    },
    {
     "name": "stderr",
     "output_type": "stream",
     "text": [
      "24/04/12 15:23:18 WARN GarbageCollectionMetrics: To enable non-built-in garbage collector(s) List(G1 Concurrent GC), users should configure it(them) to spark.eventLog.gcMetrics.youngGenerationGarbageCollectors or spark.eventLog.gcMetrics.oldGenerationGarbageCollectors\n"
     ]
    }
   ],
   "source": [
    "keyfile = \"/home/manuel/Projects/DataEngineeringZoomcamp/infra/creds.json\"\n",
    "\n",
    "# Use spark gcs connector\n",
    "conf = (SparkConf()\n",
    "        .setMaster(\"spark://localhost:7077\")\n",
    "        .setAppName(\"GCSRead\")\n",
    "        .set(\"spark.jars\", \"./spark-jars/gcs-connector-hadoop3-latest.jar\")\n",
    "        .set(\"spark.hadoop.google.cloud.auth.service.account.enable\", \"true\")\n",
    "        .set(\"spark.hadoop.google.cloud.auth.service.account.json.keyfile\", keyfile)\n",
    "        .set(\"spark.sql.legacy.parquet.nanosAsLong\", \"true\")\n",
    ")\n",
    "\n",
    "sc = SparkContext(conf=conf)\n",
    "\n",
    "hadoop_conf = sc._jsc.hadoopConfiguration()\n",
    "\n",
    "hadoop_conf.set(\"fs.gs.impl\", \"com.google.cloud.hadoop.fs.gcs.GoogleHadoopFileSystem\")\n",
    "hadoop_conf.set(\"fs.AbstractFileSystem.gs.impl\", \"com.google.cloud.hadoop.fs.gcs.GoogleHadoopFS\")\n",
    "hadoop_conf.set(\"google.cloud.auth.service.account.enable\", \"true\")\n",
    "hadoop_conf.set(\"google.cloud.auth.service.account.json.keyfile\", keyfile)\n",
    "\n",
    "spark: SparkSession = SparkSession.builder.config(conf=sc.getConf()).getOrCreate()"
   ]
  },
  {
   "cell_type": "markdown",
   "metadata": {},
   "source": [
    "## Read DataFrame"
   ]
  },
  {
   "cell_type": "code",
   "execution_count": 3,
   "metadata": {},
   "outputs": [
    {
     "name": "stderr",
     "output_type": "stream",
     "text": [
      "                                                                                \r"
     ]
    }
   ],
   "source": [
    "path=f\"gs://weather_data_de_bucket/Actuele10mindataKNMIstations/2/2024/04/*/*/*/weather_data.parquet\"\n",
    "\n",
    "df = spark.read.parquet(path)"
   ]
  },
  {
   "cell_type": "code",
   "execution_count": 5,
   "metadata": {},
   "outputs": [
    {
     "name": "stderr",
     "output_type": "stream",
     "text": [
      "                                                                                \r"
     ]
    },
    {
     "data": {
      "text/plain": [
       "332"
      ]
     },
     "execution_count": 5,
     "metadata": {},
     "output_type": "execute_result"
    }
   ],
   "source": [
    "df.count()"
   ]
  },
  {
   "cell_type": "code",
   "execution_count": null,
   "metadata": {},
   "outputs": [],
   "source": [
    "df.show(5)"
   ]
  },
  {
   "cell_type": "code",
   "execution_count": 9,
   "metadata": {},
   "outputs": [
    {
     "data": {
      "text/plain": [
       "StructType([StructField('wsi', StringType(), True), StructField('stationname', StringType(), True), StructField('lat', DoubleType(), True), StructField('lon', DoubleType(), True), StructField('height', DoubleType(), True), StructField('D1H', DoubleType(), True), StructField('dd', DoubleType(), True), StructField('dn', DoubleType(), True), StructField('dr', DoubleType(), True), StructField('dsd', DoubleType(), True), StructField('dx', DoubleType(), True), StructField('ff', DoubleType(), True), StructField('ffs', DoubleType(), True), StructField('fsd', DoubleType(), True), StructField('fx', DoubleType(), True), StructField('fxs', DoubleType(), True), StructField('gff', DoubleType(), True), StructField('gffs', DoubleType(), True), StructField('h', DoubleType(), True), StructField('h1', DoubleType(), True), StructField('h2', DoubleType(), True), StructField('h3', DoubleType(), True), StructField('hc', DoubleType(), True), StructField('hc1', DoubleType(), True), StructField('hc2', DoubleType(), True), StructField('hc3', DoubleType(), True), StructField('n', DoubleType(), True), StructField('n1', DoubleType(), True), StructField('n2', DoubleType(), True), StructField('n3', DoubleType(), True), StructField('nc', DoubleType(), True), StructField('nc1', DoubleType(), True), StructField('nc2', DoubleType(), True), StructField('nc3', DoubleType(), True), StructField('p0', DoubleType(), True), StructField('pp', DoubleType(), True), StructField('pg', DoubleType(), True), StructField('pr', DoubleType(), True), StructField('ps', DoubleType(), True), StructField('pwc', DoubleType(), True), StructField('Q1H', DoubleType(), True), StructField('Q24H', DoubleType(), True), StructField('qg', DoubleType(), True), StructField('qgn', DoubleType(), True), StructField('qgx', DoubleType(), True), StructField('qnh', DoubleType(), True), StructField('R12H', DoubleType(), True), StructField('R1H', DoubleType(), True), StructField('R24H', DoubleType(), True), StructField('R6H', DoubleType(), True), StructField('rg', DoubleType(), True), StructField('rh', DoubleType(), True), StructField('rh10', DoubleType(), True), StructField('Sav1H', DoubleType(), True), StructField('Sax1H', DoubleType(), True), StructField('Sax3H', DoubleType(), True), StructField('Sax6H', DoubleType(), True), StructField('sq', DoubleType(), True), StructField('ss', DoubleType(), True), StructField('Sx1H', DoubleType(), True), StructField('Sx3H', DoubleType(), True), StructField('Sx6H', DoubleType(), True), StructField('t10', DoubleType(), True), StructField('ta', DoubleType(), True), StructField('tb', DoubleType(), True), StructField('tb1', DoubleType(), True), StructField('Tb1n6', DoubleType(), True), StructField('Tb1x6', DoubleType(), True), StructField('tb2', DoubleType(), True), StructField('Tb2n6', DoubleType(), True), StructField('Tb2x6', DoubleType(), True), StructField('tb3', DoubleType(), True), StructField('tb4', DoubleType(), True), StructField('tb5', DoubleType(), True), StructField('td', DoubleType(), True), StructField('td10', DoubleType(), True), StructField('tg', DoubleType(), True), StructField('tgn', DoubleType(), True), StructField('Tgn12', DoubleType(), True), StructField('Tgn14', DoubleType(), True), StructField('Tgn6', DoubleType(), True), StructField('tn', DoubleType(), True), StructField('Tn12', DoubleType(), True), StructField('Tn14', DoubleType(), True), StructField('Tn6', DoubleType(), True), StructField('tsd', DoubleType(), True), StructField('tx', DoubleType(), True), StructField('Tx12', DoubleType(), True), StructField('Tx24', DoubleType(), True), StructField('Tx6', DoubleType(), True), StructField('vv', DoubleType(), True), StructField('W10', DoubleType(), True), StructField('W10-10', DoubleType(), True), StructField('ww', DoubleType(), True), StructField('ww-10', DoubleType(), True), StructField('zm', DoubleType(), True), StructField('iso_dataset', BinaryType(), True), StructField('product', BinaryType(), True), StructField('projection', BinaryType(), True), StructField('nhc', BinaryType(), True), StructField('za', BinaryType(), True), StructField('station', StringType(), True), StructField('time', LongType(), True)])"
      ]
     },
     "execution_count": 9,
     "metadata": {},
     "output_type": "execute_result"
    }
   ],
   "source": [
    "df.schema"
   ]
  },
  {
   "cell_type": "code",
   "execution_count": null,
   "metadata": {},
   "outputs": [],
   "source": [
    "from pyspark.sql.types import StructType, StructField, StringType, DoubleType, LongType, BinaryType\n",
    "\n",
    "StructType(\n",
    "    [\n",
    "        StructField(\"wsi\", StringType(), True),\n",
    "        StructField(\"stationname\", StringType(), True),\n",
    "        StructField(\"lat\", DoubleType(), True),\n",
    "        StructField(\"lon\", DoubleType(), True),\n",
    "        StructField(\"height\", DoubleType(), True),\n",
    "        StructField(\"D1H\", DoubleType(), True),\n",
    "        StructField(\"dd\", DoubleType(), True),\n",
    "        StructField(\"dn\", DoubleType(), True),\n",
    "        StructField(\"dr\", DoubleType(), True),\n",
    "        StructField(\"dsd\", DoubleType(), True),\n",
    "        StructField(\"dx\", DoubleType(), True),\n",
    "        StructField(\"ff\", DoubleType(), True),\n",
    "        StructField(\"ffs\", DoubleType(), True),\n",
    "        StructField(\"fsd\", DoubleType(), True),\n",
    "        StructField(\"fx\", DoubleType(), True),\n",
    "        StructField(\"fxs\", DoubleType(), True),\n",
    "        StructField(\"gff\", DoubleType(), True),\n",
    "        StructField(\"gffs\", DoubleType(), True),\n",
    "        StructField(\"h\", DoubleType(), True),\n",
    "        StructField(\"h1\", DoubleType(), True),\n",
    "        StructField(\"h2\", DoubleType(), True),\n",
    "        StructField(\"h3\", DoubleType(), True),\n",
    "        StructField(\"hc\", DoubleType(), True),\n",
    "        StructField(\"hc1\", DoubleType(), True),\n",
    "        StructField(\"hc2\", DoubleType(), True),\n",
    "        StructField(\"hc3\", DoubleType(), True),\n",
    "        StructField(\"n\", DoubleType(), True),\n",
    "        StructField(\"n1\", DoubleType(), True),\n",
    "        StructField(\"n2\", DoubleType(), True),\n",
    "        StructField(\"n3\", DoubleType(), True),\n",
    "        StructField(\"nc\", DoubleType(), True),\n",
    "        StructField(\"nc1\", DoubleType(), True),\n",
    "        StructField(\"nc2\", DoubleType(), True),\n",
    "        StructField(\"nc3\", DoubleType(), True),\n",
    "        StructField(\"p0\", DoubleType(), True),\n",
    "        StructField(\"pp\", DoubleType(), True),\n",
    "        StructField(\"pg\", DoubleType(), True),\n",
    "        StructField(\"pr\", DoubleType(), True),\n",
    "        StructField(\"ps\", DoubleType(), True),\n",
    "        StructField(\"pwc\", DoubleType(), True),\n",
    "        StructField(\"Q1H\", DoubleType(), True),\n",
    "        StructField(\"Q24H\", DoubleType(), True),\n",
    "        StructField(\"qg\", DoubleType(), True),\n",
    "        StructField(\"qgn\", DoubleType(), True),\n",
    "        StructField(\"qgx\", DoubleType(), True),\n",
    "        StructField(\"qnh\", DoubleType(), True),\n",
    "        StructField(\"R12H\", DoubleType(), True),\n",
    "        StructField(\"R1H\", DoubleType(), True),\n",
    "        StructField(\"R24H\", DoubleType(), True),\n",
    "        StructField(\"R6H\", DoubleType(), True),\n",
    "        StructField(\"rg\", DoubleType(), True),\n",
    "        StructField(\"rh\", DoubleType(), True),\n",
    "        StructField(\"rh10\", DoubleType(), True),\n",
    "        StructField(\"Sav1H\", DoubleType(), True),\n",
    "        StructField(\"Sax1H\", DoubleType(), True),\n",
    "        StructField(\"Sax3H\", DoubleType(), True),\n",
    "        StructField(\"Sax6H\", DoubleType(), True),\n",
    "        StructField(\"sq\", DoubleType(), True),\n",
    "        StructField(\"ss\", DoubleType(), True),\n",
    "        StructField(\"Sx1H\", DoubleType(), True),\n",
    "        StructField(\"Sx3H\", DoubleType(), True),\n",
    "        StructField(\"Sx6H\", DoubleType(), True),\n",
    "        StructField(\"t10\", DoubleType(), True),\n",
    "        StructField(\"ta\", DoubleType(), True),\n",
    "        StructField(\"tb\", DoubleType(), True),\n",
    "        StructField(\"tb1\", DoubleType(), True),\n",
    "        StructField(\"Tb1n6\", DoubleType(), True),\n",
    "        StructField(\"Tb1x6\", DoubleType(), True),\n",
    "        StructField(\"tb2\", DoubleType(), True),\n",
    "        StructField(\"Tb2n6\", DoubleType(), True),\n",
    "        StructField(\"Tb2x6\", DoubleType(), True),\n",
    "        StructField(\"tb3\", DoubleType(), True),\n",
    "        StructField(\"tb4\", DoubleType(), True),\n",
    "        StructField(\"tb5\", DoubleType(), True),\n",
    "        StructField(\"td\", DoubleType(), True),\n",
    "        StructField(\"td10\", DoubleType(), True),\n",
    "        StructField(\"tg\", DoubleType(), True),\n",
    "        StructField(\"tgn\", DoubleType(), True),\n",
    "        StructField(\"Tgn12\", DoubleType(), True),\n",
    "        StructField(\"Tgn14\", DoubleType(), True),\n",
    "        StructField(\"Tgn6\", DoubleType(), True),\n",
    "        StructField(\"tn\", DoubleType(), True),\n",
    "        StructField(\"Tn12\", DoubleType(), True),\n",
    "        StructField(\"Tn14\", DoubleType(), True),\n",
    "        StructField(\"Tn6\", DoubleType(), True),\n",
    "        StructField(\"tsd\", DoubleType(), True),\n",
    "        StructField(\"tx\", DoubleType(), True),\n",
    "        StructField(\"Tx12\", DoubleType(), True),\n",
    "        StructField(\"Tx24\", DoubleType(), True),\n",
    "        StructField(\"Tx6\", DoubleType(), True),\n",
    "        StructField(\"vv\", DoubleType(), True),\n",
    "        StructField(\"W10\", DoubleType(), True),\n",
    "        StructField(\"W10-10\", DoubleType(), True),\n",
    "        StructField(\"ww\", DoubleType(), True),\n",
    "        StructField(\"ww-10\", DoubleType(), True),\n",
    "        StructField(\"zm\", DoubleType(), True),\n",
    "        StructField(\"iso_dataset\", BinaryType(), True),\n",
    "        StructField(\"product\", BinaryType(), True),\n",
    "        StructField(\"projection\", BinaryType(), True),\n",
    "        StructField(\"nhc\", BinaryType(), True),\n",
    "        StructField(\"za\", BinaryType(), True),\n",
    "        StructField(\"station\", StringType(), True),\n",
    "        StructField(\"time\", LongType(), True),\n",
    "    ]\n",
    ")"
   ]
  },
  {
   "cell_type": "code",
   "execution_count": 19,
   "metadata": {},
   "outputs": [
    {
     "name": "stderr",
     "output_type": "stream",
     "text": [
      "[Stage 26:>                                                         (0 + 5) / 5]\r"
     ]
    },
    {
     "name": "stdout",
     "output_type": "stream",
     "text": [
      "+--------------------+-------+-----------+\n",
      "|         stationname|station|iso_dataset|\n",
      "+--------------------+-------+-----------+\n",
      "|        BERKHOUT AWS|  06249|      false|\n",
      "|               K13-A|  06252|      false|\n",
      "|            D15-FA-1|  06201|      false|\n",
      "|       WESTDORPE AWS|  06319|      false|\n",
      "|           IJMOND WP|  06209|      false|\n",
      "|    WIJK AAN ZEE AWS|  06257|      false|\n",
      "|         GILZE RIJEN|  06350|      false|\n",
      "|AMSTERDAM/SCHIPHO...|  06240|      false|\n",
      "|          Muiden BTP|  06236|      false|\n",
      "|       EURO PLATFORM|  06321|      false|\n",
      "|       MARKNESSE AWS|  06273|      false|\n",
      "|       Nieuwkoop BTP|  06238|      false|\n",
      "|         IJMUIDEN WP|  06225|      false|\n",
      "|           K14-FA-1C|  06204|      false|\n",
      "| BORSSELE ALFA (BSA)|  06317|      false|\n",
      "|ROTTERDAM THE HAG...|  06344|      false|\n",
      "|               AWG-1|  06208|      false|\n",
      "|              DEELEN|  06275|      false|\n",
      "|TERSCHELLING HOOR...|  06251|      false|\n",
      "|          STAVENISSE|  06324|      false|\n",
      "+--------------------+-------+-----------+\n",
      "only showing top 20 rows\n",
      "\n"
     ]
    },
    {
     "name": "stderr",
     "output_type": "stream",
     "text": [
      "                                                                                \r"
     ]
    }
   ],
   "source": [
    "df.select(df.stationname, df.station, (df.iso_dataset.isNull()).alias(\"iso_dataset\")).distinct().show()"
   ]
  },
  {
   "cell_type": "markdown",
   "metadata": {},
   "source": [
    "## Save to Big Query"
   ]
  }
 ],
 "metadata": {
  "kernelspec": {
   "display_name": "Python 3 (ipykernel)",
   "language": "python",
   "name": "python3"
  },
  "language_info": {
   "codemirror_mode": {
    "name": "ipython",
    "version": 3
   },
   "file_extension": ".py",
   "mimetype": "text/x-python",
   "name": "python",
   "nbconvert_exporter": "python",
   "pygments_lexer": "ipython3",
   "version": "3.11.8"
  }
 },
 "nbformat": 4,
 "nbformat_minor": 2
}
